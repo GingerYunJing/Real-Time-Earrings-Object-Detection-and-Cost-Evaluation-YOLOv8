{
 "cells": [
  {
   "cell_type": "code",
   "execution_count": 7,
   "metadata": {},
   "outputs": [
    {
     "name": "stdout",
     "output_type": "stream",
     "text": [
      "Current Directory: f:\\\n",
      "Current List of Files and Directories: \n",
      " ['.Spotlight-V100', '.TemporaryItems', '拿掉空格及括號.bat', 'earring_opencv_v1.zip', '.Trashes', 'System Volume Information', '$RECYCLE.BIN', 'Ginger', 'Vicky', 'earring_original_v1.zip', 'label_bound_check.ipynb', 'opencv_load_save.ipynb', 'earring_original_v1', 'earring_original_v2', 'earring_opencv_v1']\n"
     ]
    }
   ],
   "source": [
    "# read textfile and  split\n",
    "\n",
    "import os\n",
    "import shutil\n",
    "\n",
    "current_directory = os.getcwd()\n",
    "print(\"Current Directory:\", current_directory)\n",
    "\n",
    "# List the contents of the current directory\n",
    "current_list = os.listdir(current_directory)\n",
    "print(\"Current List of Files and Directories:\", \"\\n\", current_list)\n"
   ]
  },
  {
   "cell_type": "code",
   "execution_count": 3,
   "metadata": {},
   "outputs": [],
   "source": [
    "\n",
    "input_folder = 'earring_original_v2'\n",
    "# erro_folder = os.path.join(input_folder,'erro_label')\n",
    "\n",
    "os.makedirs(input_folder, exist_ok=True)\n",
    "# os.makedirs(erro_folder, exist_ok=True)"
   ]
  },
  {
   "cell_type": "code",
   "execution_count": 5,
   "metadata": {},
   "outputs": [
    {
     "name": "stdout",
     "output_type": "stream",
     "text": [
      "文件長度不等於5的檔案數量:  0\n",
      "正確:  12456\n"
     ]
    }
   ],
   "source": [
    "i = 0\n",
    "j = 0\n",
    "for file_name in os.listdir(input_folder):\n",
    "    if file_name.endswith('.txt'):\n",
    "      # 生成txt檔案路徑\n",
    "      file_path = os.path.join(input_folder, file_name)\n",
    "      # 讀取檔案內容，將數字拆分成列表\n",
    "      with open(file_path, 'r') as file:\n",
    "         content = file.readline()\n",
    "      numbers = [x for x in content.split()]\n",
    "      #確認Numbers的output形式\n",
    "      #  print(numbers)\n",
    "      #  print(len(numbers))\n",
    "      if len(numbers) != 5:\n",
    "         print(file_name)\n",
    "         shutil.copy(file_path, os.path.join(erro_folder, file_name))\n",
    "         i += 1\n",
    "\n",
    "      else:\n",
    "         j += 1\n",
    "    \n",
    "print( \"文件長度不等於5的檔案數量: \" , i)\n",
    "print( \"正確: \" , j)\n"
   ]
  },
  {
   "cell_type": "code",
   "execution_count": 6,
   "metadata": {},
   "outputs": [
    {
     "name": "stdout",
     "output_type": "stream",
     "text": [
      "index正確數量: 27316\n",
      "不正確量: 0\n"
     ]
    }
   ],
   "source": [
    "K=0\n",
    "N=0\n",
    "for file_name in os.listdir(input_folder):\n",
    "    if file_name.endswith('.txt'):\n",
    "        # 生成txt檔案路徑\n",
    "        file_path = os.path.join(input_folder, file_name)\n",
    "        with open(file_path) as f:\n",
    "            for line in f.readlines():\n",
    "\n",
    "                numbers = [float(x) for x in line.split()]\n",
    "\n",
    "                if 0 <= numbers[0] <= 48 and all(0 <= num <= 1 for num in numbers[1:4]):\n",
    "                # 符合條件，複製到cor資料夾\n",
    "                    K += 1\n",
    "                else:\n",
    "                # 不符合條件，複製到erro資料夾\n",
    "                    print(file_name)\n",
    "                    N += 1\n",
    "                    shutil.copy(file_path, os.path.join(erro_folder, file_name))\n",
    "\n",
    "print(\"index正確數量:\",K)\n",
    "print(\"不正確量:\",N)"
   ]
  }
 ],
 "metadata": {
  "kernelspec": {
   "display_name": "earrings",
   "language": "python",
   "name": "python3"
  },
  "language_info": {
   "codemirror_mode": {
    "name": "ipython",
    "version": 3
   },
   "file_extension": ".py",
   "mimetype": "text/x-python",
   "name": "python",
   "nbconvert_exporter": "python",
   "pygments_lexer": "ipython3",
   "version": "3.11.4"
  }
 },
 "nbformat": 4,
 "nbformat_minor": 2
}
